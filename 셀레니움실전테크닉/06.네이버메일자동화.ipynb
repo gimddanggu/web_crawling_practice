{
 "cells": [
  {
   "cell_type": "markdown",
   "metadata": {},
   "source": [
    "### 네이버 메일 자동화"
   ]
  },
  {
   "cell_type": "code",
   "execution_count": null,
   "metadata": {},
   "outputs": [],
   "source": [
    "user_id = \"아이디\"\n",
    "user_pw = \"비밀번호\""
   ]
  },
  {
   "cell_type": "code",
   "execution_count": 18,
   "metadata": {},
   "outputs": [],
   "source": [
    "from selenium import webdriver\n",
    "from selenium.webdriver.common.by import By\n",
    "from selenium.webdriver.common.keys import Keys\n",
    "import time\n",
    "import pyperclip\n",
    "\n",
    "# 크롬 드라이버 생성\n",
    "driver = webdriver.Chrome()\n",
    "\n",
    "# 페이지 이동\n",
    "driver.get(\"https://nid.naver.com/nidlogin.login?mode=form&url=https://www.naver.com/\")\n",
    "\n",
    "# 아이디 입력\n",
    "id = driver.find_element(By.CSS_SELECTOR, \"#id\")\n",
    "pyperclip.copy(user_id)\n",
    "id.send_keys(Keys.CONTROL, 'v')\n",
    "time.sleep(1)\n",
    "\n",
    "# 비밀번호 입력\n",
    "id = driver.find_element(By.CSS_SELECTOR, \"#pw\")\n",
    "pyperclip.copy(user_pw)\n",
    "id.send_keys(Keys.CONTROL, 'v')\n",
    "time.sleep(1)\n",
    "\n",
    "# 로그인 버튼 클릭\n",
    "driver.find_element(By.CSS_SELECTOR, \"#log\\.login\").click()"
   ]
  },
  {
   "cell_type": "code",
   "execution_count": 27,
   "metadata": {},
   "outputs": [],
   "source": [
    "# 기기등록 창 넘김 - 메인 페이지 이동\n",
    "driver.get(\"https://naver.com\")"
   ]
  },
  {
   "cell_type": "code",
   "execution_count": 28,
   "metadata": {},
   "outputs": [],
   "source": [
    "driver.find_element(By.CSS_SELECTOR, \"#account > div.MyView-module__my_menu___eF24q > div > div > ul > li:nth-child(1) > a > span.MyView-module__item_text___VTQQM\").click()"
   ]
  },
  {
   "cell_type": "code",
   "execution_count": 29,
   "metadata": {},
   "outputs": [],
   "source": [
    "driver.find_element(By.CSS_SELECTOR, \"#account > div.MyView-module__layer_menu_service___NqMyX > div.MyView-module__service_sub___wix9p > div.MyView-module__sub_left___AIWHR > a\").click()\n"
   ]
  },
  {
   "cell_type": "markdown",
   "metadata": {},
   "source": [
    "웹 드라이버는 한번에 하나의 페이지만 제어 가능\n"
   ]
  },
  {
   "cell_type": "code",
   "execution_count": 30,
   "metadata": {},
   "outputs": [
    {
     "data": {
      "text/plain": [
       "['C3E360AB7DFCA14391C94A83260647A7',\n",
       " 'BA1954A7F22DD2C6C5CF45D39EA58554',\n",
       " '89BE7CB7D5965205377B30C51DBBAE70']"
      ]
     },
     "execution_count": 30,
     "metadata": {},
     "output_type": "execute_result"
    }
   ],
   "source": [
    "# 현재 열려있는 창\n",
    "driver.window_handles"
   ]
  },
  {
   "cell_type": "code",
   "execution_count": 31,
   "metadata": {},
   "outputs": [],
   "source": [
    "# 새창으로 전환\n",
    "driver.switch_to.window(driver.window_handles[2])"
   ]
  },
  {
   "cell_type": "code",
   "execution_count": 32,
   "metadata": {},
   "outputs": [],
   "source": [
    "# 메일쓰기 버튼 클릭\n",
    "driver.find_element(By.CSS_SELECTOR, \"#root > div > nav > div > div.lnb_header > div.lnb_task > a.item.button_write\").click()"
   ]
  },
  {
   "cell_type": "code",
   "execution_count": null,
   "metadata": {},
   "outputs": [],
   "source": [
    "# 메일 쓰기\n",
    "## 받는 사람\n",
    "reciver = driver.find_element(By.CSS_SELECTOR, \"#recipient_input_element\")\n",
    "reciver.send_keys(\"changum0520@gmail.com\")\n",
    "## 제목\n",
    "title = driver.find_element(By.CSS_SELECTOR, \"#subject_title\")\n",
    "title.send_keys(\"크롤링 연습용 메일보내기\")\n",
    "\n",
    "## 서브페이지 이동\n",
    "iframe = driver.find_element(By.CSS_SELECTOR, \"#content > div.contents_area > div > div.editor_area > div > div.editor_body > iframe\")\n",
    "driver.switch_to.frame(iframe)\n",
    "\n",
    "## 내용\n",
    "contents = driver.find_element(By.CSS_SELECTOR, \"body > div > div.workseditor-content\")\n",
    "contents.send_keys(\"안녕하세요 !!\")\n",
    "\n",
    "\n",
    "## 원래 페이지로 전환\n",
    "driver.switch_to.default_content()\n",
    "\n",
    "## 메일 보내기\n",
    "driver.find_element(By.CSS_SELECTOR, \"#content > div.mail_toolbar.type_write > div:nth-child(1) > div > button.button_write_task\").click()\n",
    "\n"
   ]
  },
  {
   "cell_type": "code",
   "execution_count": null,
   "metadata": {},
   "outputs": [],
   "source": []
  }
 ],
 "metadata": {
  "kernelspec": {
   "display_name": ".venv",
   "language": "python",
   "name": "python3"
  },
  "language_info": {
   "codemirror_mode": {
    "name": "ipython",
    "version": 3
   },
   "file_extension": ".py",
   "mimetype": "text/x-python",
   "name": "python",
   "nbconvert_exporter": "python",
   "pygments_lexer": "ipython3",
   "version": "3.11.9"
  }
 },
 "nbformat": 4,
 "nbformat_minor": 2
}
