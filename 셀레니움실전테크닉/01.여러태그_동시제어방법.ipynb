{
 "cells": [
  {
   "cell_type": "code",
   "execution_count": 1,
   "metadata": {},
   "outputs": [],
   "source": [
    "from selenium import webdriver\n",
    "from selenium.webdriver.common.by import By\n",
    "from selenium.webdriver.common.keys import Keys\n",
    "\n",
    "\n",
    "driver = webdriver.Chrome()\n",
    "\n",
    "driver.get(\"https://startcoding.pythonanywhere.com/basic\")\n",
    "\n"
   ]
  },
  {
   "cell_type": "markdown",
   "metadata": {},
   "source": [
    "driver.find_elements()\n",
    "- 매칭되는 태그 없을 경우 빈리스트 `[]` 반환"
   ]
  },
  {
   "cell_type": "code",
   "execution_count": 3,
   "metadata": {},
   "outputs": [],
   "source": [
    "# 태그 찾기\n",
    "labels = driver.find_elements(By.CSS_SELECTOR, \"label[for]\")"
   ]
  },
  {
   "cell_type": "code",
   "execution_count": 4,
   "metadata": {},
   "outputs": [],
   "source": [
    "for label in labels:\n",
    "    label.click()"
   ]
  },
  {
   "cell_type": "markdown",
   "metadata": {},
   "source": [
    "⚠ 주의 ⚠ 자동화 속도를 너무 빠르게 하면 문제가 생길 수 있음  \n",
    "\n",
    "→ `time.sleep()` 을 이용해 속도 제어"
   ]
  },
  {
   "cell_type": "code",
   "execution_count": 5,
   "metadata": {},
   "outputs": [],
   "source": [
    "import time\n",
    "\n",
    "for label in labels:\n",
    "    label.click()\n",
    "    time.sleep(1)"
   ]
  },
  {
   "cell_type": "code",
   "execution_count": 6,
   "metadata": {},
   "outputs": [
    {
     "name": "stdout",
     "output_type": "stream",
     "text": [
      "노트북 (10)\n",
      "데스크탑 (10)\n",
      "휴대폰 (10)\n",
      "모니터 (5)\n",
      "카메라 (128)\n",
      "악세사리 (740)\n",
      "SAMSUNG (578)\n",
      "LG (125)\n",
      "HP (755)\n",
      "DELL (578)\n",
      "ASUS (125)\n",
      "SONY (755)\n"
     ]
    }
   ],
   "source": [
    "for label in labels:\n",
    "    print(label.text)\n"
   ]
  }
 ],
 "metadata": {
  "kernelspec": {
   "display_name": ".venv",
   "language": "python",
   "name": "python3"
  },
  "language_info": {
   "codemirror_mode": {
    "name": "ipython",
    "version": 3
   },
   "file_extension": ".py",
   "mimetype": "text/x-python",
   "name": "python",
   "nbconvert_exporter": "python",
   "pygments_lexer": "ipython3",
   "version": "3.11.9"
  }
 },
 "nbformat": 4,
 "nbformat_minor": 2
}
