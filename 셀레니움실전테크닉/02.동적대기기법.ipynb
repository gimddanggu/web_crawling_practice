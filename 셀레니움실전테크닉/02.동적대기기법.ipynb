{
 "cells": [
  {
   "cell_type": "markdown",
   "metadata": {},
   "source": [
    "### 동적 대기 기법"
   ]
  },
  {
   "cell_type": "markdown",
   "metadata": {},
   "source": [
    "웹 페이지의 태그가 즉시 로드되지 않고, 어떤 동작이나 시간이 지난 후 나타나는 경우"
   ]
  },
  {
   "cell_type": "markdown",
   "metadata": {},
   "source": [
    "- 암시적 대기 (implicit Wait)\n",
    "    - `driver.implicitly_wait(sec)`: 최대 sec초 동안 대기\n",
    "    - 시간 내에 태그가 발견되면 즉시 다음 코드로 진행, \n",
    "    - 설정된 시간 동안 찾지 못하면 **NoSuchElementException** 발생"
   ]
  },
  {
   "cell_type": "markdown",
   "metadata": {},
   "source": [
    "- 명시적 대기 (Explicit Wait)\n",
    "    ```python\n",
    "    from selenium.webdriver.support.ui import WebDriverWait\n",
    "    from selenium.webdriver.support import expected_conditions as EC\n",
    "\n",
    "    element = WebDriverWait(웹드라이버, 10).until(\n",
    "        EC.presence_of_element_located((By.CSS_SELECTOR, \"선택자\"))\n",
    "    )\n",
    "    ```\n",
    "    - 특정 조건이 만족할 때가지 대기\n",
    "    - `WebDriverWait`객체와 `expected_conditions`를 사용\n",
    "        - 특정 태그가 나타나거나 태그가 클릭 가능해지는 등 특정 조건설정\n",
    "    - 조건이 충족되면 즉시 다음코드 진행\n",
    "    - 조건 충족되지 않으면 **TimeoutException**발생"
   ]
  },
  {
   "cell_type": "markdown",
   "metadata": {},
   "source": [
    "- 암시적 대기와 명시적 대기의 차이\n",
    "    - 범위\n",
    "        - 암시적 대기는 웹 드리아버 객체 전체에 대해 설정, 모든 태그를 찾을 때 적용\n",
    "        - 명시적 대기: 특정 태그나 조건에 대해 설정\n",
    "    - 유연성\n",
    "        - 명시적 대기: 다양한 조건에 대기할 수 있어 더 유연\n",
    "    - 예외 처리 방식\n",
    "        - 암시적 대기 : **NoSuchElementException**\n",
    "        - 명시적 대기 : **TimeoutException**"
   ]
  },
  {
   "cell_type": "code",
   "execution_count": null,
   "metadata": {},
   "outputs": [],
   "source": []
  },
  {
   "cell_type": "code",
   "execution_count": 1,
   "metadata": {},
   "outputs": [],
   "source": [
    "from selenium import webdriver\n",
    "from selenium.webdriver.common.by import By\n",
    "from selenium.webdriver.common.keys import Keys\n",
    "\n",
    "\n",
    "driver = webdriver.Chrome()\n",
    "\n",
    "driver.get(\"https://naver.com\")"
   ]
  },
  {
   "cell_type": "code",
   "execution_count": 20,
   "metadata": {},
   "outputs": [
    {
     "ename": "NoSuchElementException",
     "evalue": "Message: no such element: Unable to locate element: {\"method\":\"css selector\",\"selector\":\"#query1\"}\n  (Session info: chrome=134.0.6998.89); For documentation on this error, please visit: https://www.selenium.dev/documentation/webdriver/troubleshooting/errors#no-such-element-exception\nStacktrace:\n\tGetHandleVerifier [0x00007FF7C9B5FE45+26629]\n\t(No symbol) [0x00007FF7C9AC6010]\n\t(No symbol) [0x00007FF7C995931A]\n\t(No symbol) [0x00007FF7C99AF8E7]\n\t(No symbol) [0x00007FF7C99AFB1C]\n\t(No symbol) [0x00007FF7C9A034A7]\n\t(No symbol) [0x00007FF7C99D7AEF]\n\t(No symbol) [0x00007FF7C9A00169]\n\t(No symbol) [0x00007FF7C99D7883]\n\t(No symbol) [0x00007FF7C99A0550]\n\t(No symbol) [0x00007FF7C99A1803]\n\tGetHandleVerifier [0x00007FF7C9EB72BD+3529853]\n\tGetHandleVerifier [0x00007FF7C9ECDA22+3621858]\n\tGetHandleVerifier [0x00007FF7C9EC24D3+3575443]\n\tGetHandleVerifier [0x00007FF7C9C2B77A+860474]\n\t(No symbol) [0x00007FF7C9AD088F]\n\t(No symbol) [0x00007FF7C9ACCBC4]\n\t(No symbol) [0x00007FF7C9ACCD66]\n\t(No symbol) [0x00007FF7C9ABC2C9]\n\tBaseThreadInitThunk [0x00007FF80FCC7374+20]\n\tRtlUserThreadStart [0x00007FF80FEDCC91+33]\n",
     "output_type": "error",
     "traceback": [
      "\u001b[31m---------------------------------------------------------------------------\u001b[39m",
      "\u001b[31mNoSuchElementException\u001b[39m                    Traceback (most recent call last)",
      "\u001b[36mCell\u001b[39m\u001b[36m \u001b[39m\u001b[32mIn[20]\u001b[39m\u001b[32m, line 3\u001b[39m\n\u001b[32m      1\u001b[39m \u001b[38;5;66;03m# 암시적 대기\u001b[39;00m\n\u001b[32m      2\u001b[39m driver.implicitly_wait(\u001b[32m10\u001b[39m)      \n\u001b[32m----> \u001b[39m\u001b[32m3\u001b[39m \u001b[43mdriver\u001b[49m\u001b[43m.\u001b[49m\u001b[43mfind_element\u001b[49m\u001b[43m(\u001b[49m\u001b[43mBy\u001b[49m\u001b[43m.\u001b[49m\u001b[43mCSS_SELECTOR\u001b[49m\u001b[43m,\u001b[49m\u001b[43m \u001b[49m\u001b[33;43m\"\u001b[39;49m\u001b[33;43m#query1\u001b[39;49m\u001b[33;43m\"\u001b[39;49m\u001b[43m)\u001b[49m     \u001b[38;5;66;03m# 10초 동안 대기 후 찾을 수 없다면 오류 생성\u001b[39;00m\n",
      "\u001b[36mFile \u001b[39m\u001b[32mc:\\dev\\python\\web_crawling_practice\\.venv\\Lib\\site-packages\\selenium\\webdriver\\remote\\webdriver.py:898\u001b[39m, in \u001b[36mWebDriver.find_element\u001b[39m\u001b[34m(self, by, value)\u001b[39m\n\u001b[32m    895\u001b[39m         \u001b[38;5;28;01mraise\u001b[39;00m NoSuchElementException(\u001b[33mf\u001b[39m\u001b[33m\"\u001b[39m\u001b[33mCannot locate relative element with: \u001b[39m\u001b[38;5;132;01m{\u001b[39;00mby.root\u001b[38;5;132;01m}\u001b[39;00m\u001b[33m\"\u001b[39m)\n\u001b[32m    896\u001b[39m     \u001b[38;5;28;01mreturn\u001b[39;00m elements[\u001b[32m0\u001b[39m]\n\u001b[32m--> \u001b[39m\u001b[32m898\u001b[39m \u001b[38;5;28;01mreturn\u001b[39;00m \u001b[38;5;28;43mself\u001b[39;49m\u001b[43m.\u001b[49m\u001b[43mexecute\u001b[49m\u001b[43m(\u001b[49m\u001b[43mCommand\u001b[49m\u001b[43m.\u001b[49m\u001b[43mFIND_ELEMENT\u001b[49m\u001b[43m,\u001b[49m\u001b[43m \u001b[49m\u001b[43m{\u001b[49m\u001b[33;43m\"\u001b[39;49m\u001b[33;43musing\u001b[39;49m\u001b[33;43m\"\u001b[39;49m\u001b[43m:\u001b[49m\u001b[43m \u001b[49m\u001b[43mby\u001b[49m\u001b[43m,\u001b[49m\u001b[43m \u001b[49m\u001b[33;43m\"\u001b[39;49m\u001b[33;43mvalue\u001b[39;49m\u001b[33;43m\"\u001b[39;49m\u001b[43m:\u001b[49m\u001b[43m \u001b[49m\u001b[43mvalue\u001b[49m\u001b[43m}\u001b[49m\u001b[43m)\u001b[49m[\u001b[33m\"\u001b[39m\u001b[33mvalue\u001b[39m\u001b[33m\"\u001b[39m]\n",
      "\u001b[36mFile \u001b[39m\u001b[32mc:\\dev\\python\\web_crawling_practice\\.venv\\Lib\\site-packages\\selenium\\webdriver\\remote\\webdriver.py:429\u001b[39m, in \u001b[36mWebDriver.execute\u001b[39m\u001b[34m(self, driver_command, params)\u001b[39m\n\u001b[32m    427\u001b[39m response = \u001b[38;5;28mself\u001b[39m.command_executor.execute(driver_command, params)\n\u001b[32m    428\u001b[39m \u001b[38;5;28;01mif\u001b[39;00m response:\n\u001b[32m--> \u001b[39m\u001b[32m429\u001b[39m     \u001b[38;5;28;43mself\u001b[39;49m\u001b[43m.\u001b[49m\u001b[43merror_handler\u001b[49m\u001b[43m.\u001b[49m\u001b[43mcheck_response\u001b[49m\u001b[43m(\u001b[49m\u001b[43mresponse\u001b[49m\u001b[43m)\u001b[49m\n\u001b[32m    430\u001b[39m     response[\u001b[33m\"\u001b[39m\u001b[33mvalue\u001b[39m\u001b[33m\"\u001b[39m] = \u001b[38;5;28mself\u001b[39m._unwrap_value(response.get(\u001b[33m\"\u001b[39m\u001b[33mvalue\u001b[39m\u001b[33m\"\u001b[39m, \u001b[38;5;28;01mNone\u001b[39;00m))\n\u001b[32m    431\u001b[39m     \u001b[38;5;28;01mreturn\u001b[39;00m response\n",
      "\u001b[36mFile \u001b[39m\u001b[32mc:\\dev\\python\\web_crawling_practice\\.venv\\Lib\\site-packages\\selenium\\webdriver\\remote\\errorhandler.py:232\u001b[39m, in \u001b[36mErrorHandler.check_response\u001b[39m\u001b[34m(self, response)\u001b[39m\n\u001b[32m    230\u001b[39m         alert_text = value[\u001b[33m\"\u001b[39m\u001b[33malert\u001b[39m\u001b[33m\"\u001b[39m].get(\u001b[33m\"\u001b[39m\u001b[33mtext\u001b[39m\u001b[33m\"\u001b[39m)\n\u001b[32m    231\u001b[39m     \u001b[38;5;28;01mraise\u001b[39;00m exception_class(message, screen, stacktrace, alert_text)  \u001b[38;5;66;03m# type: ignore[call-arg]  # mypy is not smart enough here\u001b[39;00m\n\u001b[32m--> \u001b[39m\u001b[32m232\u001b[39m \u001b[38;5;28;01mraise\u001b[39;00m exception_class(message, screen, stacktrace)\n",
      "\u001b[31mNoSuchElementException\u001b[39m: Message: no such element: Unable to locate element: {\"method\":\"css selector\",\"selector\":\"#query1\"}\n  (Session info: chrome=134.0.6998.89); For documentation on this error, please visit: https://www.selenium.dev/documentation/webdriver/troubleshooting/errors#no-such-element-exception\nStacktrace:\n\tGetHandleVerifier [0x00007FF7C9B5FE45+26629]\n\t(No symbol) [0x00007FF7C9AC6010]\n\t(No symbol) [0x00007FF7C995931A]\n\t(No symbol) [0x00007FF7C99AF8E7]\n\t(No symbol) [0x00007FF7C99AFB1C]\n\t(No symbol) [0x00007FF7C9A034A7]\n\t(No symbol) [0x00007FF7C99D7AEF]\n\t(No symbol) [0x00007FF7C9A00169]\n\t(No symbol) [0x00007FF7C99D7883]\n\t(No symbol) [0x00007FF7C99A0550]\n\t(No symbol) [0x00007FF7C99A1803]\n\tGetHandleVerifier [0x00007FF7C9EB72BD+3529853]\n\tGetHandleVerifier [0x00007FF7C9ECDA22+3621858]\n\tGetHandleVerifier [0x00007FF7C9EC24D3+3575443]\n\tGetHandleVerifier [0x00007FF7C9C2B77A+860474]\n\t(No symbol) [0x00007FF7C9AD088F]\n\t(No symbol) [0x00007FF7C9ACCBC4]\n\t(No symbol) [0x00007FF7C9ACCD66]\n\t(No symbol) [0x00007FF7C9ABC2C9]\n\tBaseThreadInitThunk [0x00007FF80FCC7374+20]\n\tRtlUserThreadStart [0x00007FF80FEDCC91+33]\n"
     ]
    }
   ],
   "source": [
    "# 암시적 대기\n",
    "driver.implicitly_wait(10)      \n",
    "driver.find_element(By.CSS_SELECTOR, \"#query1\")     # 10초 동안 대기 후 찾을 수 없다면 오류 생성"
   ]
  },
  {
   "cell_type": "markdown",
   "metadata": {},
   "source": [
    "참고) InvalidSessionIdException  - 드라이버 창 닫았을 떄 생기는 오류"
   ]
  },
  {
   "cell_type": "code",
   "execution_count": 2,
   "metadata": {},
   "outputs": [
    {
     "data": {
      "text/plain": [
       "<selenium.webdriver.remote.webelement.WebElement (session=\"f3dd1a256db2523ff3d048fb902849cb\", element=\"f.3D773E5D30EA85D24FE94CC1ED86E6C3.d.4ED19A1470445897C2017455492022F0.e.99\")>"
      ]
     },
     "execution_count": 2,
     "metadata": {},
     "output_type": "execute_result"
    }
   ],
   "source": [
    "driver.implicitly_wait(10)   \n",
    "driver.find_element(By.CSS_SELECTOR, \"#query\") # 찾는 태그가 있을 경우 대기하지 않고 바로 결과 반환"
   ]
  },
  {
   "cell_type": "code",
   "execution_count": 3,
   "metadata": {},
   "outputs": [],
   "source": [
    "from selenium.webdriver.support.ui import WebDriverWait\n",
    "from selenium.webdriver.support import expected_conditions as EC\n",
    "\n",
    "# 명시적 대기\n",
    "element = WebDriverWait(driver, 5).until(\n",
    "    # EC.presence_of_element_located((By.CSS_SELECTOR, \"#query1\"))\n",
    "    EC.presence_of_element_located((By.CSS_SELECTOR, \"#query\"))\n",
    ")   # 5초 동안 대기 후 찾을 수 없다면 오류 출력"
   ]
  }
 ],
 "metadata": {
  "kernelspec": {
   "display_name": ".venv",
   "language": "python",
   "name": "python3"
  },
  "language_info": {
   "codemirror_mode": {
    "name": "ipython",
    "version": 3
   },
   "file_extension": ".py",
   "mimetype": "text/x-python",
   "name": "python",
   "nbconvert_exporter": "python",
   "pygments_lexer": "ipython3",
   "version": "3.11.9"
  }
 },
 "nbformat": 4,
 "nbformat_minor": 2
}
