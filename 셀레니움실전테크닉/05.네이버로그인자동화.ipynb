{
 "cells": [
  {
   "cell_type": "markdown",
   "metadata": {},
   "source": [
    "### 네이버 로그인 자동화"
   ]
  },
  {
   "cell_type": "code",
   "execution_count": null,
   "metadata": {},
   "outputs": [],
   "source": [
    "user_id = \"아이디\"\n",
    "user_pw = \"비밀번호\""
   ]
  },
  {
   "cell_type": "code",
   "execution_count": 7,
   "metadata": {},
   "outputs": [],
   "source": [
    "from selenium import webdriver\n",
    "from selenium.webdriver.common.by import By\n",
    "from selenium.webdriver.common.keys import Keys\n",
    "import time\n",
    "\n",
    "# 크롬 드라이버 생성\n",
    "driver = webdriver.Chrome()\n",
    "\n",
    "# 페이지 이동\n",
    "driver.get(\"https://nid.naver.com/nidlogin.login?mode=form&url=https://www.naver.com/\")\n",
    "\n",
    "# 아이디 입력\n",
    "id = driver.find_element(By.CSS_SELECTOR, \"#id\")\n",
    "id.send_keys(user_id)\n",
    "time.sleep(1)\n",
    "\n",
    "# 비밀번호 입력\n",
    "pw = driver.find_element(By.CSS_SELECTOR, \"#pw\")\n",
    "pw.send_keys(user_pw)\n",
    "time.sleep(1)\n",
    "\n",
    "# 로그인 버튼 클릭\n",
    "driver.find_element(By.CSS_SELECTOR, \"#log\\.login\").click()"
   ]
  },
  {
   "cell_type": "markdown",
   "metadata": {},
   "source": [
    "id, pw 태그를 찾아 `send_keys()`로 직접 값을 입력할 경우 자동입력 방지 창이 뜸  \n"
   ]
  },
  {
   "cell_type": "markdown",
   "metadata": {},
   "source": [
    "클립보드를 다루는 라이브러리 설치 : `pip install pyperclip`"
   ]
  },
  {
   "cell_type": "code",
   "execution_count": 17,
   "metadata": {},
   "outputs": [],
   "source": [
    "from selenium import webdriver\n",
    "from selenium.webdriver.common.by import By\n",
    "from selenium.webdriver.common.keys import Keys\n",
    "import time\n",
    "import pyperclip\n",
    "\n",
    "# 크롬 드라이버 생성\n",
    "driver = webdriver.Chrome()\n",
    "\n",
    "# 페이지 이동\n",
    "driver.get(\"https://nid.naver.com/nidlogin.login?mode=form&url=https://www.naver.com/\")\n",
    "\n",
    "# 아이디 입력\n",
    "id = driver.find_element(By.CSS_SELECTOR, \"#id\")\n",
    "pyperclip.copy(user_id)\n",
    "id.send_keys(Keys.CONTROL, 'v')\n",
    "time.sleep(1)\n",
    "\n",
    "# 비밀번호 입력\n",
    "id = driver.find_element(By.CSS_SELECTOR, \"#pw\")\n",
    "pyperclip.copy(user_pw)\n",
    "id.send_keys(Keys.CONTROL, 'v')\n",
    "time.sleep(1)\n",
    "\n",
    "# 로그인 버튼 클릭\n",
    "driver.find_element(By.CSS_SELECTOR, \"#log\\.login\").click()"
   ]
  },
  {
   "cell_type": "code",
   "execution_count": 12,
   "metadata": {},
   "outputs": [
    {
     "name": "stdout",
     "output_type": "stream",
     "text": [
      "Collecting pyperclip\n",
      "  Downloading pyperclip-1.9.0.tar.gz (20 kB)\n",
      "  Installing build dependencies: started\n",
      "  Installing build dependencies: finished with status 'done'\n",
      "  Getting requirements to build wheel: started\n",
      "  Getting requirements to build wheel: finished with status 'done'\n",
      "  Preparing metadata (pyproject.toml): started\n",
      "  Preparing metadata (pyproject.toml): finished with status 'done'\n",
      "Building wheels for collected packages: pyperclip\n",
      "  Building wheel for pyperclip (pyproject.toml): started\n",
      "  Building wheel for pyperclip (pyproject.toml): finished with status 'done'\n",
      "  Created wheel for pyperclip: filename=pyperclip-1.9.0-py3-none-any.whl size=11067 sha256=97265a04bdd59eef0975598c728f6d5e1ae53252d655f3cbf8b483b20b66e658\n",
      "  Stored in directory: c:\\users\\trump\\appdata\\local\\pip\\cache\\wheels\\e8\\e7\\56\\591cb88ba1783b38c40d584026e766aac9c3a048e34128ce8b\n",
      "Successfully built pyperclip\n",
      "Installing collected packages: pyperclip\n",
      "Successfully installed pyperclip-1.9.0\n",
      "Note: you may need to restart the kernel to use updated packages.\n"
     ]
    },
    {
     "name": "stderr",
     "output_type": "stream",
     "text": [
      "\n",
      "[notice] A new release of pip is available: 24.0 -> 25.0.1\n",
      "[notice] To update, run: python.exe -m pip install --upgrade pip\n"
     ]
    }
   ],
   "source": [
    "pip install pyperclip"
   ]
  }
 ],
 "metadata": {
  "kernelspec": {
   "display_name": ".venv",
   "language": "python",
   "name": "python3"
  },
  "language_info": {
   "codemirror_mode": {
    "name": "ipython",
    "version": 3
   },
   "file_extension": ".py",
   "mimetype": "text/x-python",
   "name": "python",
   "nbconvert_exporter": "python",
   "pygments_lexer": "ipython3",
   "version": "3.11.9"
  }
 },
 "nbformat": 4,
 "nbformat_minor": 2
}
