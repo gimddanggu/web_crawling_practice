{
 "cells": [
  {
   "cell_type": "markdown",
   "metadata": {},
   "source": [
    "### 셀렉트박스_조작방법"
   ]
  },
  {
   "cell_type": "markdown",
   "metadata": {},
   "source": [
    "#### Select 클래스를 이용한 드롭다운 메뉴 선택"
   ]
  },
  {
   "cell_type": "markdown",
   "metadata": {},
   "source": [
    "- select박스는 자식태그로 옵션태그들이 있음 \n",
    "- value 속성과 텍스트 내용 들어가있음"
   ]
  },
  {
   "cell_type": "markdown",
   "metadata": {},
   "source": [
    "CSS 선택자로 셀렉트박스르 제어했을 때 단점\n",
    "1. 옵션의 순서가 바뀌면 제대로 동작하지 않을 수 있음\n",
    "2. 가독성 떨어짐\n",
    "3. 유지보수가어려워짐"
   ]
  },
  {
   "cell_type": "markdown",
   "metadata": {},
   "source": [
    "셀레니움에서는 셀렉트 박스르 다루는 데 특화된 명령어를 제공하는 Select 클래스 존재  \n",
    "→ 직관적이고 편리"
   ]
  },
  {
   "cell_type": "code",
   "execution_count": 2,
   "metadata": {},
   "outputs": [],
   "source": [
    "from selenium import webdriver\n",
    "from selenium.webdriver.common.by import By\n",
    "from selenium.webdriver.common.keys import Keys\n",
    "\n",
    "\n",
    "driver = webdriver.Chrome()\n",
    "\n",
    "driver.get(\"https://finance.naver.com/research/company_list.naver\")"
   ]
  },
  {
   "cell_type": "code",
   "execution_count": 3,
   "metadata": {},
   "outputs": [],
   "source": [
    "# select 태그 찾기\n",
    "select_tag = driver.find_element(By.CSS_SELECTOR, \"#contentarea_left > form > fieldset > ul > li:nth-child(2) > select\")"
   ]
  },
  {
   "cell_type": "code",
   "execution_count": null,
   "metadata": {},
   "outputs": [],
   "source": [
    "from selenium.webdriver.support.select import Select\n",
    "\n",
    "# index로 선택\n",
    "Select(select_tag).select_by_index(0)   # index는 0부터 시작"
   ]
  },
  {
   "cell_type": "code",
   "execution_count": 20,
   "metadata": {},
   "outputs": [],
   "source": [
    "# value로 선택\n",
    "Select(select_tag).select_by_value(\"60\")      ## option tag에 있는 value"
   ]
  },
  {
   "cell_type": "code",
   "execution_count": 21,
   "metadata": {},
   "outputs": [],
   "source": [
    "# 보이는 텍스트로 선택\n",
    "Select(select_tag).select_by_visible_text(\"삼성증권\")"
   ]
  }
 ],
 "metadata": {
  "kernelspec": {
   "display_name": ".venv",
   "language": "python",
   "name": "python3"
  },
  "language_info": {
   "codemirror_mode": {
    "name": "ipython",
    "version": 3
   },
   "file_extension": ".py",
   "mimetype": "text/x-python",
   "name": "python",
   "nbconvert_exporter": "python",
   "pygments_lexer": "ipython3",
   "version": "3.11.9"
  }
 },
 "nbformat": 4,
 "nbformat_minor": 2
}
