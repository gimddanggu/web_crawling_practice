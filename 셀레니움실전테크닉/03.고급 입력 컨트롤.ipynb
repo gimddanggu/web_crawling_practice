{
 "cells": [
  {
   "cell_type": "markdown",
   "metadata": {},
   "source": [
    "### 고급 입력 컨트롤"
   ]
  },
  {
   "cell_type": "markdown",
   "metadata": {},
   "source": [
    "- 입력값 삭제\n",
    "    - `.clear()`\n",
    "    - 텍스트 박스, 텍스트 영역 등.. 모든 텍스트를 삭제할 때 사용\n",
    "    - 입력 창과 같이 사용자 입력을 받는 태그에서만 작동\n",
    "    - `<div>`, `<span>`과 같은 태그에 사용 시 **InvalidElementStateException**예외 발생"
   ]
  },
  {
   "cell_type": "markdown",
   "metadata": {},
   "source": [
    "- 순차적 키 입력\n",
    "    - 여러 개의 데이터를 받아 복잡한 입력 방식 구현 가능\n",
    "    - ex) Ctrl + A, Ctrl + c .. "
   ]
  },
  {
   "cell_type": "code",
   "execution_count": 1,
   "metadata": {},
   "outputs": [],
   "source": [
    "from selenium import webdriver\n",
    "from selenium.webdriver.common.by import By\n",
    "from selenium.webdriver.common.keys import Keys\n",
    "\n",
    "\n",
    "driver = webdriver.Chrome()\n",
    "\n",
    "driver.get(\"https://naver.com\")"
   ]
  },
  {
   "cell_type": "code",
   "execution_count": 15,
   "metadata": {},
   "outputs": [],
   "source": [
    "search = driver.find_element(By.CSS_SELECTOR, \"#query\")\n",
    "\n",
    "# 문자 입력\n",
    "search.send_keys(\"스타트코딩\")"
   ]
  },
  {
   "cell_type": "code",
   "execution_count": 3,
   "metadata": {},
   "outputs": [],
   "source": [
    "# 입력값 삭제\n",
    "search.clear()"
   ]
  },
  {
   "cell_type": "code",
   "execution_count": 6,
   "metadata": {},
   "outputs": [],
   "source": [
    "# 순차적 키 입력\n",
    "search.send_keys(Keys.CONTROL, 'A')"
   ]
  },
  {
   "cell_type": "code",
   "execution_count": 7,
   "metadata": {},
   "outputs": [],
   "source": [
    "search.send_keys(Keys.CONTROL, 'C')"
   ]
  },
  {
   "cell_type": "code",
   "execution_count": 11,
   "metadata": {},
   "outputs": [],
   "source": [
    "search.send_keys(Keys.CONTROL, 'V')"
   ]
  },
  {
   "cell_type": "code",
   "execution_count": 12,
   "metadata": {},
   "outputs": [],
   "source": [
    "search.send_keys('인프런', Keys.ENTER)"
   ]
  },
  {
   "cell_type": "code",
   "execution_count": 16,
   "metadata": {},
   "outputs": [],
   "source": [
    "## 활용 - 다음 태그를 찾지 않고 다음 입력칸으로 이동 후 텍스트 입력\n",
    "search.send_keys('검색어1', Keys.TAB, '검색어')\n"
   ]
  }
 ],
 "metadata": {
  "kernelspec": {
   "display_name": ".venv",
   "language": "python",
   "name": "python3"
  },
  "language_info": {
   "codemirror_mode": {
    "name": "ipython",
    "version": 3
   },
   "file_extension": ".py",
   "mimetype": "text/x-python",
   "name": "python",
   "nbconvert_exporter": "python",
   "pygments_lexer": "ipython3",
   "version": "3.11.9"
  }
 },
 "nbformat": 4,
 "nbformat_minor": 2
}
