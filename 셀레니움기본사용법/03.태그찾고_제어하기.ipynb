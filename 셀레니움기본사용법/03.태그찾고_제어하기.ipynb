{
 "cells": [
  {
   "cell_type": "markdown",
   "metadata": {},
   "source": [
    "### CSS 선택자로 태그 찾기"
   ]
  },
  {
   "cell_type": "markdown",
   "metadata": {},
   "source": [
    "```python\n",
    "from selenium.webdriver.common.by import By\n",
    "driver.find_element(By.CSS_SELECTOR, \"CSS 선택자\")\n",
    "```"
   ]
  },
  {
   "cell_type": "markdown",
   "metadata": {},
   "source": [
    "- By 클래스: 웹 페이즤의 태그를 찾을 때 사용할 수 있는 다양한 방법\n",
    "    - CSS 선택자\n",
    "    - 클래스 이름\n",
    "    - ID\n",
    "    - Xpath"
   ]
  },
  {
   "cell_type": "markdown",
   "metadata": {},
   "source": [
    "#### `driver.find_element()`\n",
    "- 웹페이지에서 첫번째로 일치하는 태그를 찾아 반환\n",
    "- 일치하는 태그 없다면 NoSuchElementException 예외 발생시킴\n",
    "- 일치하는 태그 찾은 경우 WebElement 객체 반환\n",
    "- WebElement 객체를 통해 태그를 클릭, 입력, 데이터 추출등을 할 수 있음"
   ]
  },
  {
   "cell_type": "markdown",
   "metadata": {},
   "source": [
    "ㄴ[참고] 자바스크립트를 사용해서 동적으로 태그가 생성되는 페이지에서는 태그가 로드될 때까지 **대기** 한 후에 찾아야 될 수도 있음"
   ]
  },
  {
   "cell_type": "markdown",
   "metadata": {},
   "source": [
    "### 연습"
   ]
  },
  {
   "cell_type": "markdown",
   "metadata": {},
   "source": [
    "#### 1. CSS 선택자 쉽게 찾는 방법\n",
    "1. 원하는 태그를 찾음 > 우클릭 - 검사 클릭\n",
    "2. 원하는 태그에 우클릭 > Copy > Copy Selector 선택"
   ]
  },
  {
   "cell_type": "code",
   "execution_count": 2,
   "metadata": {},
   "outputs": [],
   "source": [
    "from selenium import webdriver\n",
    "\n",
    "# 크롬 드라이버 생성\n",
    "driver = webdriver.Chrome()"
   ]
  },
  {
   "cell_type": "code",
   "execution_count": 3,
   "metadata": {},
   "outputs": [],
   "source": [
    "driver.get(\"https://naver.com\")"
   ]
  },
  {
   "cell_type": "code",
   "execution_count": 5,
   "metadata": {},
   "outputs": [
    {
     "data": {
      "text/plain": [
       "<selenium.webdriver.remote.webelement.WebElement (session=\"736a965a40c5436df3c6a9660df2a92a\", element=\"f.138900493DF209C136100C2CD2D927FC.d.382C7044BB1E863C8DCECAF47C99C214.e.98\")>"
      ]
     },
     "execution_count": 5,
     "metadata": {},
     "output_type": "execute_result"
    }
   ],
   "source": [
    "from selenium.webdriver.common.by import By\n",
    "\n",
    "# Webelement 객체 반환\n",
    "driver.find_element(By.CSS_SELECTOR, \"#query\")"
   ]
  },
  {
   "cell_type": "code",
   "execution_count": 7,
   "metadata": {},
   "outputs": [],
   "source": [
    "search = driver.find_element(By.CSS_SELECTOR, \"#query\")\n",
    "\n",
    "# 1. 클릭\n",
    "search.click()"
   ]
  },
  {
   "cell_type": "code",
   "execution_count": 8,
   "metadata": {},
   "outputs": [],
   "source": [
    "# 2. 문자 입력\n",
    "search.send_keys('셀레니움 공부')"
   ]
  },
  {
   "cell_type": "code",
   "execution_count": 10,
   "metadata": {},
   "outputs": [],
   "source": [
    "from selenium.webdriver.common.keys import Keys\n",
    "\n",
    "# 3. 키 입력\n",
    "search.send_keys(Keys.ENTER)"
   ]
  },
  {
   "cell_type": "markdown",
   "metadata": {},
   "source": [
    "#### 셀레니움 기본 템플릿"
   ]
  },
  {
   "cell_type": "code",
   "execution_count": null,
   "metadata": {},
   "outputs": [],
   "source": [
    "from selenium import webdriver\n",
    "from selenium.webdriver.common.by import By\n",
    "from selenium.webdriver.common.keys import Keys\n",
    "\n",
    "\n",
    "driver = webdriver.Chrome()\n",
    "driver.get(\"https://naver.com\")\n",
    "\n",
    "search = driver.find_element(By.CSS_SELECTOR, \"#query\")\n",
    "search.click()\n",
    "search.send_keys('셀레니움 공부')\n",
    "search.send_keys(Keys.ENTER)\n",
    "\n"
   ]
  }
 ],
 "metadata": {
  "kernelspec": {
   "display_name": ".venv",
   "language": "python",
   "name": "python3"
  },
  "language_info": {
   "codemirror_mode": {
    "name": "ipython",
    "version": 3
   },
   "file_extension": ".py",
   "mimetype": "text/x-python",
   "name": "python",
   "nbconvert_exporter": "python",
   "pygments_lexer": "ipython3",
   "version": "3.11.9"
  }
 },
 "nbformat": 4,
 "nbformat_minor": 2
}
