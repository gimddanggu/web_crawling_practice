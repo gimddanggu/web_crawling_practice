{
 "cells": [
  {
   "cell_type": "markdown",
   "metadata": {},
   "source": [
    "### 페이지 스크롤"
   ]
  },
  {
   "cell_type": "code",
   "execution_count": 2,
   "metadata": {},
   "outputs": [],
   "source": [
    "from selenium import webdriver\n",
    "from selenium.webdriver.common.by import By\n",
    "from selenium.webdriver.common.keys import Keys\n",
    "\n",
    "# 크롬 드라이버 생성\n",
    "driver = webdriver.Chrome()\n",
    "\n",
    "# 페이지이동\n",
    "driver.get(\"https://startcoding.pythonanywhere.com/dynamic\")"
   ]
  },
  {
   "cell_type": "markdown",
   "metadata": {},
   "source": [
    "- execute_script() : 셀레니움으로 자바스크립트를 실행하는 명령어"
   ]
  },
  {
   "cell_type": "code",
   "execution_count": 9,
   "metadata": {},
   "outputs": [],
   "source": [
    "# 절대 위치로 스크롤\n",
    "driver.execute_script(\"window.scrollTo(0, 1500)\")   # y:1000까지 스크롤 내림"
   ]
  },
  {
   "cell_type": "code",
   "execution_count": 10,
   "metadata": {},
   "outputs": [],
   "source": [
    "# 상대 위치로 스크롤\n",
    "driver.execute_script(\"window.scrollBy(0, 1000)\")   # 현재 스크롤 위치를 기준으로 1000만큼 스크롤 이동"
   ]
  },
  {
   "cell_type": "code",
   "execution_count": 11,
   "metadata": {},
   "outputs": [
    {
     "data": {
      "text/plain": [
       "4392"
      ]
     },
     "execution_count": 11,
     "metadata": {},
     "output_type": "execute_result"
    }
   ],
   "source": [
    "# 현재 스크롤 높이\n",
    "driver.execute_script(\"return document.body.scrollHeight\")"
   ]
  },
  {
   "cell_type": "code",
   "execution_count": 7,
   "metadata": {},
   "outputs": [],
   "source": [
    "# 페이지 끝까지 스크롤\n",
    "driver.execute_script(\"window.scrollTo(0, document.body.scrollHeight)\")"
   ]
  },
  {
   "cell_type": "code",
   "execution_count": 4,
   "metadata": {},
   "outputs": [],
   "source": [
    "# (심화) 특정 요소로 스크롤 하는 방법\n",
    "tag = driver.find_element(By.CSS_SELECTOR, \"#aside > div:nth-child(1) > div > div:nth-child(6) > label\")\n",
    "driver.execute_script(\"arguments[0].scrollIntoView(true)\", tag)"
   ]
  },
  {
   "cell_type": "code",
   "execution_count": 8,
   "metadata": {},
   "outputs": [],
   "source": [
    "# (심화) 특정 요소가 나타날 때까지 스크롤\n",
    "import time\n",
    "\n",
    "while True:\n",
    "    try:\n",
    "        element = driver.find_element(By.CSS_SELECTOR, \"#product-container > div:nth-child(28)\")\n",
    "        break;\n",
    "    except:\n",
    "        driver.execute_script(\"window.scrollTo(0, document.body.scrollHeight)\")\n",
    "        time.sleep(1)"
   ]
  },
  {
   "cell_type": "code",
   "execution_count": 9,
   "metadata": {},
   "outputs": [
    {
     "data": {
      "text/plain": [
       "'-20%HOT\\n휴대폰\\n삼성전자 갤럭시 Z 플립5 5G 자급제, 크림, 512GB\\n1,216,050원1,520,200\\n(3824)\\nADD TO CART'"
      ]
     },
     "execution_count": 9,
     "metadata": {},
     "output_type": "execute_result"
    }
   ],
   "source": [
    "element.text"
   ]
  }
 ],
 "metadata": {
  "kernelspec": {
   "display_name": ".venv",
   "language": "python",
   "name": "python3"
  },
  "language_info": {
   "codemirror_mode": {
    "name": "ipython",
    "version": 3
   },
   "file_extension": ".py",
   "mimetype": "text/x-python",
   "name": "python",
   "nbconvert_exporter": "python",
   "pygments_lexer": "ipython3",
   "version": "3.11.9"
  }
 },
 "nbformat": 4,
 "nbformat_minor": 2
}
